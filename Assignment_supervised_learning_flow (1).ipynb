{
 "cells": [
  {
   "cell_type": "markdown",
   "id": "ec202ada",
   "metadata": {},
   "source": [
    "# Assignment - Supervised Learning flow"
   ]
  },
  {
   "cell_type": "markdown",
   "id": "b06a2810",
   "metadata": {},
   "source": [
    "# Part 1(a) Student details:\n",
    "* Please write the First-Name, First letter of Last-Name and last 4 digits of the i.d. for each student. "
   ]
  },
  {
   "cell_type": "code",
   "execution_count": 222,
   "id": "ca16486b",
   "metadata": {},
   "outputs": [],
   "source": [
    "\n",
    "# student details 1: Molly F. 1888\n"
   ]
  },
  {
   "cell_type": "markdown",
   "id": "abb64166-b32e-4b86-a7ee-84106c8b3a92",
   "metadata": {},
   "source": [
    "## Part 1(b) - Chat-GPT/other AI-agent/other assistance used:\n",
    "* If you changed the prompt until you got a satisfying answer, please add all versions\n",
    "* don't delete \"pre\" tags, so new-line is supported\n",
    "* double click the following markdown cell to change\n",
    "* press shift+enter to view\n",
    "  "
   ]
  },
  {
   "cell_type": "markdown",
   "id": "ea93f0d3-7aa1-4a95-b084-395f5f7c6c0c",
   "metadata": {},
   "source": [
    "#### Add information in this Markdown cell (double click to change, shift-enter to view)\n",
    "<pre>   \n",
    "AI agent name: ChatGPT (GPT-5 mini)\n",
    "Goal: Guidance on installing Anaconda and Jupyter Notebook, handling missing values, deleting cells, adding databases to the notebook, and checking for errors in code.\n",
    "Propmpt1: How do I install Anaconda and Jupyter Notebook?\n",
    "Propmpt2: How do I fill missing values, delete cells, and add databases in my notebook?\n",
    "Propmpt3: Can you help me check my code for errors and suggest corrections?\n",
    "prompt 4: which models/algorithems should I check trying to solve/predict a classification problem? \n",
    "Other assistanse: I also used reffered material from \"מבוא למדעי הנתונים\" course\n",
    "</pre>"
   ]
  },
  {
   "cell_type": "markdown",
   "id": "0e4fbaab-e5a5-40ed-be0f-9a2cb7931a4b",
   "metadata": {},
   "source": [
    "## Part 1(c) - Learning Problem and dataset explaination.\n",
    "* Please explain in one paragraph\n",
    "* don't delete \"pre\" tags, so new-line is supported\n",
    "* double click the following markdown cell to change\n",
    "* press shift+enter to view\n",
    "* Add explaining text:"
   ]
  },
  {
   "cell_type": "markdown",
   "id": "dd8565df-2778-4b89-83bd-6b227063789f",
   "metadata": {},
   "source": [
    "#### Add information in this Markdown cell (double click to change, shift-enter to view)\n",
    "<pre>\n",
    "The learning problem is a supervised classification task where the goal is to predict whether a passenger survived the Titanic disaster based on various features, and this goal needed to be successfully accomplished. The dataset contains information about passengers. The target variable is 'Survived', which indicates if a passenger survived (1) or not (0). The dataset requires preprocessing such as handling missing values, encoding categorical variables, and normalizing numerical features to make it suitable for machine learning models.\n",
    "</pre>\n"
   ]
  },
  {
   "cell_type": "markdown",
   "id": "df67c2ee-87c8-499c-a04f-1853c332f51d",
   "metadata": {},
   "source": [
    "## Part 2 - Initial Preparations \n",
    "You could add as many code cells as needed"
   ]
  },
  {
   "cell_type": "code",
   "execution_count": 223,
   "id": "86dd3db9-df34-4365-b094-cb73c1874791",
   "metadata": {},
   "outputs": [],
   "source": [
    "import pandas as pd\n",
    "import numpy as np             \n",
    "import matplotlib.pyplot as plt  \n",
    "import seaborn as sns            \n",
    "from sklearn.model_selection import train_test_split, GridSearchCV\n",
    "from sklearn.ensemble import RandomForestClassifier   \n",
    "from sklearn.linear_model import LogisticRegression\n",
    "from sklearn.preprocessing import StandardScaler\n",
    "from sklearn.pipeline import Pipeline\n",
    "from sklearn.metrics import accuracy_score, f1_score, confusion_matrix, classification_report"
   ]
  },
  {
   "cell_type": "code",
   "execution_count": 224,
   "id": "a73ad3ab-922e-4c6a-93e0-ec33e9abf9f6",
   "metadata": {},
   "outputs": [
    {
     "name": "stdout",
     "output_type": "stream",
     "text": [
      "<class 'pandas.core.frame.DataFrame'>\n",
      "RangeIndex: 712 entries, 0 to 711\n",
      "Data columns (total 8 columns):\n",
      " #   Column    Non-Null Count  Dtype  \n",
      "---  ------    --------------  -----  \n",
      " 0   Pclass    712 non-null    int64  \n",
      " 1   Sex       712 non-null    int64  \n",
      " 2   Age       712 non-null    float64\n",
      " 3   SibSp     712 non-null    int64  \n",
      " 4   Parch     712 non-null    int64  \n",
      " 5   Fare      712 non-null    float64\n",
      " 6   Embarked  712 non-null    int64  \n",
      " 7   Survived  712 non-null    int64  \n",
      "dtypes: float64(2), int64(6)\n",
      "memory usage: 44.6 KB\n"
     ]
    }
   ],
   "source": [
    "# הצגה של המידע - מאפיינים שנעבוד איתם, מה קייםת לפני ניקוי נתונים\n",
    "train_df = pd.read_csv(\"titanic_train.csv\")\n",
    "test_df = pd.read_csv(\"titanic_test.csv\")\n",
    "train_df.head()\n",
    "train_df.info()"
   ]
  },
  {
   "cell_type": "code",
   "execution_count": 225,
   "id": "ca09b47a-6fed-4447-99a8-54f668ca1da1",
   "metadata": {},
   "outputs": [
    {
     "data": {
      "image/png": "[encoded data removed]",
      "text/plain": [
       "<Figure size 640x480 with 1 Axes>"
      ]
     },
     "metadata": {},
     "output_type": "display_data"
    },
    {
     "data": {
      "image/png": "[encoded data removed]",
      "text/plain": [
       "<Figure size 640x480 with 1 Axes>"
      ]
     },
     "metadata": {},
     "output_type": "display_data"
    }
   ],
   "source": [
    "train_df.isnull().sum()\n",
    "sns.countplot(x='Survived', data=train_df) # הצגה של מי שרד ומי לא \n",
    "plt.show()\n",
    "sns.histplot(train_df['Age'].dropna(), bins=30) #הצגה של גילאים - מתוך הנחה שזה מאפיין בעל חשיבות\n",
    "plt.show()"
   ]
  },
  {
   "cell_type": "code",
   "execution_count": 226,
   "id": "23b5f3bc-ccc4-441d-8d16-b8a4564d3bc8",
   "metadata": {},
   "outputs": [
    {
     "data": {
      "text/html": [
       "<div>\n",
       "<style scoped>\n",
       "    .dataframe tbody tr th:only-of-type {\n",
       "        vertical-align: middle;\n",
       "    }\n",
       "\n",
       "    .dataframe tbody tr th {\n",
       "        vertical-align: top;\n",
       "    }\n",
       "\n",
       "    .dataframe thead th {\n",
       "        text-align: right;\n",
       "    }\n",
       "</style>\n",
       "<table border=\"1\" class=\"dataframe\">\n",
       "  <thead>\n",
       "    <tr style=\"text-align: right;\">\n",
       "      <th></th>\n",
       "      <th>Pclass</th>\n",
       "      <th>Age</th>\n",
       "      <th>SibSp</th>\n",
       "      <th>Parch</th>\n",
       "      <th>Fare</th>\n",
       "      <th>Survived</th>\n",
       "      <th>Sex_1</th>\n",
       "      <th>Embarked_1</th>\n",
       "      <th>Embarked_2</th>\n",
       "      <th>Embarked_3</th>\n",
       "    </tr>\n",
       "  </thead>\n",
       "  <tbody>\n",
       "    <tr>\n",
       "      <th>0</th>\n",
       "      <td>1</td>\n",
       "      <td>54.0</td>\n",
       "      <td>1</td>\n",
       "      <td>0</td>\n",
       "      <td>78.2667</td>\n",
       "      <td>1</td>\n",
       "      <td>False</td>\n",
       "      <td>True</td>\n",
       "      <td>False</td>\n",
       "      <td>False</td>\n",
       "    </tr>\n",
       "    <tr>\n",
       "      <th>1</th>\n",
       "      <td>2</td>\n",
       "      <td>45.0</td>\n",
       "      <td>0</td>\n",
       "      <td>0</td>\n",
       "      <td>13.5000</td>\n",
       "      <td>1</td>\n",
       "      <td>False</td>\n",
       "      <td>False</td>\n",
       "      <td>False</td>\n",
       "      <td>False</td>\n",
       "    </tr>\n",
       "    <tr>\n",
       "      <th>2</th>\n",
       "      <td>3</td>\n",
       "      <td>20.0</td>\n",
       "      <td>0</td>\n",
       "      <td>0</td>\n",
       "      <td>9.5000</td>\n",
       "      <td>0</td>\n",
       "      <td>True</td>\n",
       "      <td>False</td>\n",
       "      <td>False</td>\n",
       "      <td>False</td>\n",
       "    </tr>\n",
       "    <tr>\n",
       "      <th>3</th>\n",
       "      <td>3</td>\n",
       "      <td>36.0</td>\n",
       "      <td>0</td>\n",
       "      <td>0</td>\n",
       "      <td>7.8958</td>\n",
       "      <td>0</td>\n",
       "      <td>True</td>\n",
       "      <td>False</td>\n",
       "      <td>False</td>\n",
       "      <td>False</td>\n",
       "    </tr>\n",
       "    <tr>\n",
       "      <th>4</th>\n",
       "      <td>3</td>\n",
       "      <td>22.0</td>\n",
       "      <td>0</td>\n",
       "      <td>0</td>\n",
       "      <td>8.0500</td>\n",
       "      <td>0</td>\n",
       "      <td>True</td>\n",
       "      <td>False</td>\n",
       "      <td>False</td>\n",
       "      <td>False</td>\n",
       "    </tr>\n",
       "  </tbody>\n",
       "</table>\n",
       "</div>"
      ],
      "text/plain": [
       "   Pclass   Age  SibSp  Parch     Fare  Survived  Sex_1  Embarked_1  \\\n",
       "0       1  54.0      1      0  78.2667         1  False        True   \n",
       "1       2  45.0      0      0  13.5000         1  False       False   \n",
       "2       3  20.0      0      0   9.5000         0   True       False   \n",
       "3       3  36.0      0      0   7.8958         0   True       False   \n",
       "4       3  22.0      0      0   8.0500         0   True       False   \n",
       "\n",
       "   Embarked_2  Embarked_3  \n",
       "0       False       False  \n",
       "1       False       False  \n",
       "2       False       False  \n",
       "3       False       False  \n",
       "4       False       False  "
      ]
     },
     "execution_count": 226,
     "metadata": {},
     "output_type": "execute_result"
    }
   ],
   "source": [
    "#ניקוי \n",
    "train_df['Age'] = train_df['Age'].fillna(train_df['Age'].median())\n",
    "test_df['Age'] = test_df['Age'].fillna(test_df['Age'].median())\n",
    "train_df['Embarked'] = train_df['Embarked'].fillna(train_df['Embarked'].mode()[0])\n",
    "train_df = pd.get_dummies(train_df, columns=['Sex','Embarked'], drop_first=True)\n",
    "test_df = pd.get_dummies(test_df, columns=['Sex','Embarked'], drop_first=True)\n",
    "train_df.head()"
   ]
  },
  {
   "cell_type": "code",
   "execution_count": 227,
   "id": "bb4f5b17-fccf-43a3-aeff-ad292e78df43",
   "metadata": {},
   "outputs": [],
   "source": [
    "X = train_df.drop(['Survived'], axis=1)\n",
    "y = train_df['Survived']"
   ]
  },
  {
   "cell_type": "markdown",
   "id": "fb36672a",
   "metadata": {},
   "source": [
    "## Part 3 - Experiments\n",
    "You could add as many code cells as needed"
   ]
  },
  {
   "cell_type": "code",
   "execution_count": 228,
   "id": "908b59ed-d6e5-418d-ab57-73b9a5bd140c",
   "metadata": {},
   "outputs": [],
   "source": [
    "X_train, X_val, y_train, y_val = train_test_split(X, y, test_size=0.2, random_state=42) # נתונים לשימוש לאחר ניקוי בשלב קודם"
   ]
  },
  {
   "cell_type": "code",
   "execution_count": 229,
   "id": "b7098585",
   "metadata": {},
   "outputs": [
    {
     "name": "stdout",
     "output_type": "stream",
     "text": [
      "Random Forest - Best parameters: {'max_depth': 5, 'n_estimators': 100}\n",
      "Random Forest - Best F1 score (CV): 0.7570160865400992\n"
     ]
    }
   ],
   "source": [
    "# 1. Random Forest\n",
    "rf = RandomForestClassifier(random_state=42)\n",
    "param_grid_rf = {'n_estimators': [100, 200],'max_depth': [None, 5, 10]}\n",
    "grid_rf = GridSearchCV(rf, param_grid_rf, cv=5, scoring='f1', return_train_score=True)\n",
    "grid_rf.fit(X_train, y_train)\n",
    "print(\"Random Forest - Best parameters:\", grid_rf.best_params_)\n",
    "print(\"Random Forest - Best F1 score (CV):\", grid_rf.best_score_)"
   ]
  },
  {
   "cell_type": "code",
   "execution_count": 230,
   "id": "e5de84c0-0048-4b0a-b6f9-d7029cf24d50",
   "metadata": {},
   "outputs": [
    {
     "name": "stdout",
     "output_type": "stream",
     "text": [
      "Logistic Regression - Best parameters: {'C': 1, 'penalty': 'l2', 'solver': 'lbfgs'}\n",
      "Logistic Regression - Best F1 score (CV): 0.7395980923882739\n"
     ]
    }
   ],
   "source": [
    "# 2. Logistic Regression\n",
    "lr = LogisticRegression(max_iter=1000, random_state=42)\n",
    "\n",
    "param_grid_lr = {'C': [0.1, 1, 10],'penalty': ['l2'],'solver': ['lbfgs']} #C - hyperparameter\n",
    "\n",
    "grid_lr = GridSearchCV(lr, param_grid_lr, cv=5, scoring='f1', return_train_score=True)\n",
    "grid_lr.fit(X_train, y_train)\n",
    "\n",
    "print(\"Logistic Regression - Best parameters:\", grid_lr.best_params_)\n",
    "print(\"Logistic Regression - Best F1 score (CV):\", grid_lr.best_score_)"
   ]
  },
  {
   "cell_type": "code",
   "execution_count": 234,
   "id": "3606c617-ed4b-4b67-94ee-1c1efbc34628",
   "metadata": {},
   "outputs": [
    {
     "name": "stdout",
     "output_type": "stream",
     "text": [
      "F1 score for Random Forest: 0.7570\n",
      "F1 score for Logistic Regression: 0.7396\n",
      "the algorithem that was chosen is: Random Forest with F1 score = 0.7570\n"
     ]
    }
   ],
   "source": [
    "#השוואת השיטות ובחירת המודל הטוב ביותר\n",
    "models = {\"Random Forest\": grid_rf, \"Logistic Regression\": grid_lr}\n",
    "best_f1 = 0\n",
    "best_model_name = \"\"\n",
    "best_model = None\n",
    "\n",
    "for name, grid in models.items():\n",
    "    f1 = grid.best_score_\n",
    "    print(f\"F1 score for {name}: {f1:.4f}\")\n",
    "    if f1 > best_f1:\n",
    "        best_f1 = f1\n",
    "        best_model_name = name\n",
    "        best_model = grid.best_estimator_\n",
    "\n",
    "print(f\"the algorithem that was chosen is: {best_model_name} with F1 score = {best_f1:.4f}\")"
   ]
  },
  {
   "cell_type": "markdown",
   "id": "67d97f11",
   "metadata": {},
   "source": [
    "## Part 4 - Training \n",
    "Use the best combination of feature engineering, model (algorithm and hyperparameters) from the experiment part (part 3)"
   ]
  },
  {
   "cell_type": "code",
   "execution_count": 235,
   "id": "93713ead",
   "metadata": {},
   "outputs": [
    {
     "name": "stdout",
     "output_type": "stream",
     "text": [
      "Validation F1 score: 0.7368421052631579\n"
     ]
    }
   ],
   "source": [
    "best_model.fit(X_train, y_train) # אימון המודל הנבחר על כל ה-Train\n",
    "y_val_pred = best_model.predict(X_val) # בדיקת ביצועים על Validation Set \n",
    "print(\"Validation F1 score:\", f1_score(y_val, y_val_pred))"
   ]
  },
  {
   "cell_type": "code",
   "execution_count": 236,
   "id": "237c91c5-0662-46ce-a879-b7ca67eca588",
   "metadata": {},
   "outputs": [
    {
     "name": "stdout",
     "output_type": "stream",
     "text": [
      "      Feature  Importance\n",
      "5       Sex_1    0.453280\n",
      "4        Fare    0.193866\n",
      "1         Age    0.128857\n",
      "0      Pclass    0.096289\n",
      "2       SibSp    0.054918\n",
      "3       Parch    0.040222\n",
      "6  Embarked_1    0.022678\n",
      "7  Embarked_2    0.009769\n",
      "8  Embarked_3    0.000121\n"
     ]
    },
    {
     "data": {
      "image/png": "[encoded data removed]",
      "text/plain": [
       "<Figure size 1000x600 with 1 Axes>"
      ]
     },
     "metadata": {},
     "output_type": "display_data"
    }
   ],
   "source": [
    "importances = best_model.feature_importances_\n",
    "feature_names = X_train.columns\n",
    "feature_importance_df = pd.DataFrame({'Feature': feature_names,'Importance': importances}).sort_values(by='Importance', ascending=False)\n",
    "print(feature_importance_df)\n",
    "\n",
    "plt.figure(figsize=(10,6))\n",
    "sns.barplot(x='Importance', y='Feature', data=feature_importance_df)\n",
    "plt.title(\"Feature Importance – Random Forest\")\n",
    "plt.show()"
   ]
  },
  {
   "cell_type": "markdown",
   "id": "259ab902",
   "metadata": {},
   "source": [
    "## Part 5 - Apply on test and show model performance estimation"
   ]
  },
  {
   "cell_type": "code",
   "execution_count": 238,
   "id": "d9971aa5",
   "metadata": {},
   "outputs": [
    {
     "name": "stdout",
     "output_type": "stream",
     "text": [
      "Test Accuracy: 0.7932960893854749\n",
      "Test F1 score: 0.6890756302521008\n",
      "Confusion Matrix:\n",
      " [[101  17]\n",
      " [ 20  41]]\n",
      "Classification Report:\n",
      "               precision    recall  f1-score   support\n",
      "\n",
      "           0       0.83      0.86      0.85       118\n",
      "           1       0.71      0.67      0.69        61\n",
      "\n",
      "    accuracy                           0.79       179\n",
      "   macro avg       0.77      0.76      0.77       179\n",
      "weighted avg       0.79      0.79      0.79       179\n",
      "\n",
      "   Survived_Pred  Survived_Actual\n",
      "0              0                0\n",
      "1              0                0\n",
      "2              0                0\n",
      "3              1                0\n",
      "4              0                1\n"
     ]
    }
   ],
   "source": [
    "# יוצרים את תחזיות המודל\n",
    "X_test = test_df.drop(columns=['PassengerID', 'Ticket', 'Survived'], errors='ignore')\n",
    "test_pred = grid.predict(X_test)\n",
    "\n",
    "# יוצרים DataFrame עם התחזיות\n",
    "pred_df = X_test.copy()\n",
    "pred_df['Survived_Pred'] = test_pred\n",
    "\n",
    "# הערכת ביצועים על Test Set\n",
    "accuracy = accuracy_score(y_test, test_pred)\n",
    "f1 = f1_score(y_test, test_pred)\n",
    "\n",
    "print(\"Test Accuracy:\", accuracy)\n",
    "print(\"Test F1 score:\", f1)\n",
    "print(\"Confusion Matrix:\\n\", confusion_matrix(y_test, test_pred))\n",
    "print(\"Classification Report:\\n\", classification_report(y_test, test_pred))\n",
    "\n",
    "# 3. עמודה עם הערך האמיתי מה-test\n",
    "pred_df['Survived_Actual'] = test_df['Survived']  # הערכים האמיתיים\n",
    "\n",
    "# 4. בוחרים את העמודות להצגה\n",
    "display_df = pred_df[['Survived_Pred','Survived_Actual']]\n",
    "\n",
    "# 5. מציגים חמש השורות הראשונות\n",
    "print(display_df.head())\n"
   ]
  }
 ],
 "metadata": {
  "kernelspec": {
   "display_name": "Python 3 (ipykernel)",
   "language": "python",
   "name": "python3"
  },
  "language_info": {
   "codemirror_mode": {
    "name": "ipython",
    "version": 3
   },
   "file_extension": ".py",
   "mimetype": "text/x-python",
   "name": "python",
   "nbconvert_exporter": "python",
   "pygments_lexer": "ipython3",
   "version": "3.13.5"
  },
  "widgets": {
   "application/vnd.jupyter.widget-state+json": {
    "state": {},
    "version_major": 2,
    "version_minor": 0
   }
  }
 },
 "nbformat": 4,
 "nbformat_minor": 5
}
